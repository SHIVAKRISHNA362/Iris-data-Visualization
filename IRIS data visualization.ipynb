{
 "cells": [
  {
   "cell_type": "markdown",
   "id": "f8cba4de",
   "metadata": {},
   "source": [
    "# IRIS DATASET VISUALIZATION (SEABORN,MATPLOTLIB)\n"
   ]
  },
  {
   "cell_type": "code",
   "execution_count": 1,
   "id": "552f9d25",
   "metadata": {},
   "outputs": [],
   "source": [
    "import numpy as np\n",
    "import pandas as pd\n"
   ]
  },
  {
   "cell_type": "code",
   "execution_count": 2,
   "id": "428b2600",
   "metadata": {},
   "outputs": [],
   "source": [
    "import seaborn as sns\n",
    "import matplotlib.pyplot as plt\n",
    "import warnings\n",
    "warnings.filterwarnings('ignore')"
   ]
  },
  {
   "cell_type": "code",
   "execution_count": 3,
   "id": "73010f70",
   "metadata": {},
   "outputs": [],
   "source": [
    "iris=pd.read_csv(r'D:\\DS\\Iris.csv.csv')"
   ]
  },
  {
   "cell_type": "code",
   "execution_count": 4,
   "id": "f5b1498d",
   "metadata": {},
   "outputs": [
    {
     "data": {
      "text/html": [
       "<div>\n",
       "<style scoped>\n",
       "    .dataframe tbody tr th:only-of-type {\n",
       "        vertical-align: middle;\n",
       "    }\n",
       "\n",
       "    .dataframe tbody tr th {\n",
       "        vertical-align: top;\n",
       "    }\n",
       "\n",
       "    .dataframe thead th {\n",
       "        text-align: right;\n",
       "    }\n",
       "</style>\n",
       "<table border=\"1\" class=\"dataframe\">\n",
       "  <thead>\n",
       "    <tr style=\"text-align: right;\">\n",
       "      <th></th>\n",
       "      <th>Id</th>\n",
       "      <th>SepalLengthCm</th>\n",
       "      <th>SepalWidthCm</th>\n",
       "      <th>PetalLengthCm</th>\n",
       "      <th>PetalWidthCm</th>\n",
       "      <th>Species</th>\n",
       "    </tr>\n",
       "  </thead>\n",
       "  <tbody>\n",
       "    <tr>\n",
       "      <th>0</th>\n",
       "      <td>1</td>\n",
       "      <td>5.1</td>\n",
       "      <td>3.5</td>\n",
       "      <td>1.4</td>\n",
       "      <td>0.2</td>\n",
       "      <td>Iris-setosa</td>\n",
       "    </tr>\n",
       "    <tr>\n",
       "      <th>1</th>\n",
       "      <td>2</td>\n",
       "      <td>4.9</td>\n",
       "      <td>3.0</td>\n",
       "      <td>1.4</td>\n",
       "      <td>0.2</td>\n",
       "      <td>Iris-setosa</td>\n",
       "    </tr>\n",
       "    <tr>\n",
       "      <th>2</th>\n",
       "      <td>3</td>\n",
       "      <td>4.7</td>\n",
       "      <td>3.2</td>\n",
       "      <td>1.3</td>\n",
       "      <td>0.2</td>\n",
       "      <td>Iris-setosa</td>\n",
       "    </tr>\n",
       "    <tr>\n",
       "      <th>3</th>\n",
       "      <td>4</td>\n",
       "      <td>4.6</td>\n",
       "      <td>3.1</td>\n",
       "      <td>1.5</td>\n",
       "      <td>0.2</td>\n",
       "      <td>Iris-setosa</td>\n",
       "    </tr>\n",
       "    <tr>\n",
       "      <th>4</th>\n",
       "      <td>5</td>\n",
       "      <td>5.0</td>\n",
       "      <td>3.6</td>\n",
       "      <td>1.4</td>\n",
       "      <td>0.2</td>\n",
       "      <td>Iris-setosa</td>\n",
       "    </tr>\n",
       "    <tr>\n",
       "      <th>...</th>\n",
       "      <td>...</td>\n",
       "      <td>...</td>\n",
       "      <td>...</td>\n",
       "      <td>...</td>\n",
       "      <td>...</td>\n",
       "      <td>...</td>\n",
       "    </tr>\n",
       "    <tr>\n",
       "      <th>145</th>\n",
       "      <td>146</td>\n",
       "      <td>6.7</td>\n",
       "      <td>3.0</td>\n",
       "      <td>5.2</td>\n",
       "      <td>2.3</td>\n",
       "      <td>Iris-virginica</td>\n",
       "    </tr>\n",
       "    <tr>\n",
       "      <th>146</th>\n",
       "      <td>147</td>\n",
       "      <td>6.3</td>\n",
       "      <td>2.5</td>\n",
       "      <td>5.0</td>\n",
       "      <td>1.9</td>\n",
       "      <td>Iris-virginica</td>\n",
       "    </tr>\n",
       "    <tr>\n",
       "      <th>147</th>\n",
       "      <td>148</td>\n",
       "      <td>6.5</td>\n",
       "      <td>3.0</td>\n",
       "      <td>5.2</td>\n",
       "      <td>2.0</td>\n",
       "      <td>Iris-virginica</td>\n",
       "    </tr>\n",
       "    <tr>\n",
       "      <th>148</th>\n",
       "      <td>149</td>\n",
       "      <td>6.2</td>\n",
       "      <td>3.4</td>\n",
       "      <td>5.4</td>\n",
       "      <td>2.3</td>\n",
       "      <td>Iris-virginica</td>\n",
       "    </tr>\n",
       "    <tr>\n",
       "      <th>149</th>\n",
       "      <td>150</td>\n",
       "      <td>5.9</td>\n",
       "      <td>3.0</td>\n",
       "      <td>5.1</td>\n",
       "      <td>1.8</td>\n",
       "      <td>Iris-virginica</td>\n",
       "    </tr>\n",
       "  </tbody>\n",
       "</table>\n",
       "<p>150 rows × 6 columns</p>\n",
       "</div>"
      ],
      "text/plain": [
       "      Id  SepalLengthCm  SepalWidthCm  PetalLengthCm  PetalWidthCm  \\\n",
       "0      1            5.1           3.5            1.4           0.2   \n",
       "1      2            4.9           3.0            1.4           0.2   \n",
       "2      3            4.7           3.2            1.3           0.2   \n",
       "3      4            4.6           3.1            1.5           0.2   \n",
       "4      5            5.0           3.6            1.4           0.2   \n",
       "..   ...            ...           ...            ...           ...   \n",
       "145  146            6.7           3.0            5.2           2.3   \n",
       "146  147            6.3           2.5            5.0           1.9   \n",
       "147  148            6.5           3.0            5.2           2.0   \n",
       "148  149            6.2           3.4            5.4           2.3   \n",
       "149  150            5.9           3.0            5.1           1.8   \n",
       "\n",
       "            Species  \n",
       "0       Iris-setosa  \n",
       "1       Iris-setosa  \n",
       "2       Iris-setosa  \n",
       "3       Iris-setosa  \n",
       "4       Iris-setosa  \n",
       "..              ...  \n",
       "145  Iris-virginica  \n",
       "146  Iris-virginica  \n",
       "147  Iris-virginica  \n",
       "148  Iris-virginica  \n",
       "149  Iris-virginica  \n",
       "\n",
       "[150 rows x 6 columns]"
      ]
     },
     "execution_count": 4,
     "metadata": {},
     "output_type": "execute_result"
    }
   ],
   "source": [
    "iris"
   ]
  },
  {
   "cell_type": "code",
   "execution_count": 5,
   "id": "21a5f52b",
   "metadata": {},
   "outputs": [
    {
     "data": {
      "text/html": [
       "<div>\n",
       "<style scoped>\n",
       "    .dataframe tbody tr th:only-of-type {\n",
       "        vertical-align: middle;\n",
       "    }\n",
       "\n",
       "    .dataframe tbody tr th {\n",
       "        vertical-align: top;\n",
       "    }\n",
       "\n",
       "    .dataframe thead th {\n",
       "        text-align: right;\n",
       "    }\n",
       "</style>\n",
       "<table border=\"1\" class=\"dataframe\">\n",
       "  <thead>\n",
       "    <tr style=\"text-align: right;\">\n",
       "      <th></th>\n",
       "      <th>Id</th>\n",
       "      <th>SepalLengthCm</th>\n",
       "      <th>SepalWidthCm</th>\n",
       "      <th>PetalLengthCm</th>\n",
       "      <th>PetalWidthCm</th>\n",
       "      <th>Species</th>\n",
       "    </tr>\n",
       "  </thead>\n",
       "  <tbody>\n",
       "    <tr>\n",
       "      <th>0</th>\n",
       "      <td>1</td>\n",
       "      <td>5.1</td>\n",
       "      <td>3.5</td>\n",
       "      <td>1.4</td>\n",
       "      <td>0.2</td>\n",
       "      <td>Iris-setosa</td>\n",
       "    </tr>\n",
       "    <tr>\n",
       "      <th>1</th>\n",
       "      <td>2</td>\n",
       "      <td>4.9</td>\n",
       "      <td>3.0</td>\n",
       "      <td>1.4</td>\n",
       "      <td>0.2</td>\n",
       "      <td>Iris-setosa</td>\n",
       "    </tr>\n",
       "    <tr>\n",
       "      <th>2</th>\n",
       "      <td>3</td>\n",
       "      <td>4.7</td>\n",
       "      <td>3.2</td>\n",
       "      <td>1.3</td>\n",
       "      <td>0.2</td>\n",
       "      <td>Iris-setosa</td>\n",
       "    </tr>\n",
       "    <tr>\n",
       "      <th>3</th>\n",
       "      <td>4</td>\n",
       "      <td>4.6</td>\n",
       "      <td>3.1</td>\n",
       "      <td>1.5</td>\n",
       "      <td>0.2</td>\n",
       "      <td>Iris-setosa</td>\n",
       "    </tr>\n",
       "    <tr>\n",
       "      <th>4</th>\n",
       "      <td>5</td>\n",
       "      <td>5.0</td>\n",
       "      <td>3.6</td>\n",
       "      <td>1.4</td>\n",
       "      <td>0.2</td>\n",
       "      <td>Iris-setosa</td>\n",
       "    </tr>\n",
       "  </tbody>\n",
       "</table>\n",
       "</div>"
      ],
      "text/plain": [
       "   Id  SepalLengthCm  SepalWidthCm  PetalLengthCm  PetalWidthCm      Species\n",
       "0   1            5.1           3.5            1.4           0.2  Iris-setosa\n",
       "1   2            4.9           3.0            1.4           0.2  Iris-setosa\n",
       "2   3            4.7           3.2            1.3           0.2  Iris-setosa\n",
       "3   4            4.6           3.1            1.5           0.2  Iris-setosa\n",
       "4   5            5.0           3.6            1.4           0.2  Iris-setosa"
      ]
     },
     "execution_count": 5,
     "metadata": {},
     "output_type": "execute_result"
    }
   ],
   "source": [
    "iris.head()"
   ]
  },
  {
   "cell_type": "code",
   "execution_count": 6,
   "id": "ca58b2f1",
   "metadata": {},
   "outputs": [],
   "source": [
    "iris.drop('Id',axis=1,inplace=True)"
   ]
  },
  {
   "cell_type": "code",
   "execution_count": 7,
   "id": "2ed891f2",
   "metadata": {},
   "outputs": [
    {
     "data": {
      "text/html": [
       "<div>\n",
       "<style scoped>\n",
       "    .dataframe tbody tr th:only-of-type {\n",
       "        vertical-align: middle;\n",
       "    }\n",
       "\n",
       "    .dataframe tbody tr th {\n",
       "        vertical-align: top;\n",
       "    }\n",
       "\n",
       "    .dataframe thead th {\n",
       "        text-align: right;\n",
       "    }\n",
       "</style>\n",
       "<table border=\"1\" class=\"dataframe\">\n",
       "  <thead>\n",
       "    <tr style=\"text-align: right;\">\n",
       "      <th></th>\n",
       "      <th>SepalLengthCm</th>\n",
       "      <th>SepalWidthCm</th>\n",
       "      <th>PetalLengthCm</th>\n",
       "      <th>PetalWidthCm</th>\n",
       "      <th>Species</th>\n",
       "    </tr>\n",
       "  </thead>\n",
       "  <tbody>\n",
       "    <tr>\n",
       "      <th>0</th>\n",
       "      <td>5.1</td>\n",
       "      <td>3.5</td>\n",
       "      <td>1.4</td>\n",
       "      <td>0.2</td>\n",
       "      <td>Iris-setosa</td>\n",
       "    </tr>\n",
       "    <tr>\n",
       "      <th>1</th>\n",
       "      <td>4.9</td>\n",
       "      <td>3.0</td>\n",
       "      <td>1.4</td>\n",
       "      <td>0.2</td>\n",
       "      <td>Iris-setosa</td>\n",
       "    </tr>\n",
       "    <tr>\n",
       "      <th>2</th>\n",
       "      <td>4.7</td>\n",
       "      <td>3.2</td>\n",
       "      <td>1.3</td>\n",
       "      <td>0.2</td>\n",
       "      <td>Iris-setosa</td>\n",
       "    </tr>\n",
       "    <tr>\n",
       "      <th>3</th>\n",
       "      <td>4.6</td>\n",
       "      <td>3.1</td>\n",
       "      <td>1.5</td>\n",
       "      <td>0.2</td>\n",
       "      <td>Iris-setosa</td>\n",
       "    </tr>\n",
       "    <tr>\n",
       "      <th>4</th>\n",
       "      <td>5.0</td>\n",
       "      <td>3.6</td>\n",
       "      <td>1.4</td>\n",
       "      <td>0.2</td>\n",
       "      <td>Iris-setosa</td>\n",
       "    </tr>\n",
       "  </tbody>\n",
       "</table>\n",
       "</div>"
      ],
      "text/plain": [
       "   SepalLengthCm  SepalWidthCm  PetalLengthCm  PetalWidthCm      Species\n",
       "0            5.1           3.5            1.4           0.2  Iris-setosa\n",
       "1            4.9           3.0            1.4           0.2  Iris-setosa\n",
       "2            4.7           3.2            1.3           0.2  Iris-setosa\n",
       "3            4.6           3.1            1.5           0.2  Iris-setosa\n",
       "4            5.0           3.6            1.4           0.2  Iris-setosa"
      ]
     },
     "execution_count": 7,
     "metadata": {},
     "output_type": "execute_result"
    }
   ],
   "source": [
    "iris.head()"
   ]
  },
  {
   "cell_type": "code",
   "execution_count": 8,
   "id": "2459e5d9",
   "metadata": {},
   "outputs": [
    {
     "data": {
      "text/plain": [
       "(150, 5)"
      ]
     },
     "execution_count": 8,
     "metadata": {},
     "output_type": "execute_result"
    }
   ],
   "source": [
    "iris.shape"
   ]
  },
  {
   "cell_type": "code",
   "execution_count": 9,
   "id": "dd774b85",
   "metadata": {},
   "outputs": [
    {
     "name": "stdout",
     "output_type": "stream",
     "text": [
      "<class 'pandas.core.frame.DataFrame'>\n",
      "RangeIndex: 150 entries, 0 to 149\n",
      "Data columns (total 5 columns):\n",
      " #   Column         Non-Null Count  Dtype  \n",
      "---  ------         --------------  -----  \n",
      " 0   SepalLengthCm  150 non-null    float64\n",
      " 1   SepalWidthCm   150 non-null    float64\n",
      " 2   PetalLengthCm  150 non-null    float64\n",
      " 3   PetalWidthCm   150 non-null    float64\n",
      " 4   Species        150 non-null    object \n",
      "dtypes: float64(4), object(1)\n",
      "memory usage: 6.0+ KB\n"
     ]
    }
   ],
   "source": [
    "iris.info()"
   ]
  },
  {
   "cell_type": "code",
   "execution_count": 10,
   "id": "7e39c839",
   "metadata": {},
   "outputs": [
    {
     "data": {
      "text/html": [
       "<div>\n",
       "<style scoped>\n",
       "    .dataframe tbody tr th:only-of-type {\n",
       "        vertical-align: middle;\n",
       "    }\n",
       "\n",
       "    .dataframe tbody tr th {\n",
       "        vertical-align: top;\n",
       "    }\n",
       "\n",
       "    .dataframe thead th {\n",
       "        text-align: right;\n",
       "    }\n",
       "</style>\n",
       "<table border=\"1\" class=\"dataframe\">\n",
       "  <thead>\n",
       "    <tr style=\"text-align: right;\">\n",
       "      <th></th>\n",
       "      <th>SepalLengthCm</th>\n",
       "      <th>SepalWidthCm</th>\n",
       "      <th>PetalLengthCm</th>\n",
       "      <th>PetalWidthCm</th>\n",
       "      <th>Species</th>\n",
       "    </tr>\n",
       "  </thead>\n",
       "  <tbody>\n",
       "    <tr>\n",
       "      <th>34</th>\n",
       "      <td>4.9</td>\n",
       "      <td>3.1</td>\n",
       "      <td>1.5</td>\n",
       "      <td>0.1</td>\n",
       "      <td>Iris-setosa</td>\n",
       "    </tr>\n",
       "    <tr>\n",
       "      <th>37</th>\n",
       "      <td>4.9</td>\n",
       "      <td>3.1</td>\n",
       "      <td>1.5</td>\n",
       "      <td>0.1</td>\n",
       "      <td>Iris-setosa</td>\n",
       "    </tr>\n",
       "    <tr>\n",
       "      <th>142</th>\n",
       "      <td>5.8</td>\n",
       "      <td>2.7</td>\n",
       "      <td>5.1</td>\n",
       "      <td>1.9</td>\n",
       "      <td>Iris-virginica</td>\n",
       "    </tr>\n",
       "  </tbody>\n",
       "</table>\n",
       "</div>"
      ],
      "text/plain": [
       "     SepalLengthCm  SepalWidthCm  PetalLengthCm  PetalWidthCm         Species\n",
       "34             4.9           3.1            1.5           0.1     Iris-setosa\n",
       "37             4.9           3.1            1.5           0.1     Iris-setosa\n",
       "142            5.8           2.7            5.1           1.9  Iris-virginica"
      ]
     },
     "execution_count": 10,
     "metadata": {},
     "output_type": "execute_result"
    }
   ],
   "source": [
    "#Checking Duplicates\n",
    "iris[iris.duplicated()]"
   ]
  },
  {
   "cell_type": "code",
   "execution_count": 11,
   "id": "c2e0a331",
   "metadata": {},
   "outputs": [
    {
     "data": {
      "text/plain": [
       "Iris-setosa        50\n",
       "Iris-versicolor    50\n",
       "Iris-virginica     50\n",
       "Name: Species, dtype: int64"
      ]
     },
     "execution_count": 11,
     "metadata": {},
     "output_type": "execute_result"
    }
   ],
   "source": [
    "iris['Species'].value_counts()"
   ]
  },
  {
   "cell_type": "code",
   "execution_count": 12,
   "id": "06ac4768",
   "metadata": {},
   "outputs": [
    {
     "ename": "TypeError",
     "evalue": "countplot() got multiple values for argument 'data'",
     "output_type": "error",
     "traceback": [
      "\u001b[1;31m---------------------------------------------------------------------------\u001b[0m",
      "\u001b[1;31mTypeError\u001b[0m                                 Traceback (most recent call last)",
      "\u001b[1;32m~\\AppData\\Local\\Temp\\ipykernel_19912\\2516899857.py\u001b[0m in \u001b[0;36m<module>\u001b[1;34m\u001b[0m\n\u001b[1;32m----> 1\u001b[1;33m \u001b[0msns\u001b[0m\u001b[1;33m.\u001b[0m\u001b[0mcountplot\u001b[0m\u001b[1;33m(\u001b[0m\u001b[1;34m'Species'\u001b[0m\u001b[1;33m,\u001b[0m\u001b[0mdata\u001b[0m\u001b[1;33m=\u001b[0m\u001b[0miris\u001b[0m\u001b[1;33m)\u001b[0m\u001b[1;33m\u001b[0m\u001b[1;33m\u001b[0m\u001b[0m\n\u001b[0m\u001b[0;32m      2\u001b[0m \u001b[0mplt\u001b[0m\u001b[1;33m.\u001b[0m\u001b[0mshow\u001b[0m\u001b[1;33m\u001b[0m\u001b[1;33m\u001b[0m\u001b[0m\n",
      "\u001b[1;31mTypeError\u001b[0m: countplot() got multiple values for argument 'data'"
     ]
    }
   ],
   "source": [
    "sns.countplot('Species',data=iris)\n",
    "plt.show"
   ]
  },
  {
   "cell_type": "markdown",
   "id": "0eff75cd",
   "metadata": {},
   "source": [
    "Joint plot :\n",
    "joint plot is seaborn library specific and can be used to quickly visulize and analyze the relationship between  two variables and describe their individual distributions on the plot."
   ]
  },
  {
   "cell_type": "code",
   "execution_count": null,
   "id": "a17538e0",
   "metadata": {},
   "outputs": [],
   "source": [
    "iris.head()"
   ]
  },
  {
   "cell_type": "code",
   "execution_count": null,
   "id": "1ee28114",
   "metadata": {},
   "outputs": [],
   "source": [
    "fig = sns.jointplot(x='SepalLengthCm',y = 'SepalWidthCm',data =iris,hue='Species')"
   ]
  },
  {
   "cell_type": "markdown",
   "id": "08f5038c",
   "metadata": {},
   "source": [
    "Observations:-\n",
    "Species Setosa has smaller sepal lengths but larger sepal widths.\n",
    "versicolor species lies in the middle of the two species in terms of sepal length and width\n",
    "species virginica has larger sepal lengths but smaller widths."
   ]
  },
  {
   "cell_type": "code",
   "execution_count": null,
   "id": "9b41c367",
   "metadata": {},
   "outputs": [],
   "source": [
    "fig = sns.jointplot(x='PetalLengthCm',y = 'PetalWidthCm',data =iris,hue = 'Species')"
   ]
  },
  {
   "cell_type": "markdown",
   "id": "98448077",
   "metadata": {},
   "source": [
    "# Obervations \n",
    " Species setoca has smaller petal lengths and widths.\n",
    " Versicolor species lies in the middle of the other two species in terms of petal length and width\n",
    " Species virginica has the largest of petal lenths and width"
   ]
  },
  {
   "cell_type": "code",
   "execution_count": null,
   "id": "7ce96590",
   "metadata": {},
   "outputs": [],
   "source": [
    "sns.jointplot(\"SepalLengthCm\",\"SepalWidthCm\",data = iris,kind=\"reg\",color='Red')"
   ]
  },
  {
   "cell_type": "code",
   "execution_count": null,
   "id": "5b829c98",
   "metadata": {},
   "outputs": [],
   "source": [
    "fig =sns.jointplot(x='SepalLengthCm',y='SepalWidthCm',kind = 'hex',data =iris,color='Red')"
   ]
  },
  {
   "cell_type": "markdown",
   "id": "a4651fe5",
   "metadata": {},
   "source": [
    "Facet Grid Plot"
   ]
  },
  {
   "cell_type": "code",
   "execution_count": null,
   "id": "fa628fd9",
   "metadata": {},
   "outputs": [],
   "source": [
    "import matplotlib.pyplot as plt\n",
    "%matplotlib inline\n",
    "\n",
    "sns.FacetGrid(iris,hue ='Species',size =5)\\\n",
    ".map(plt.scatter,'SepalLengthCm','SepalWidthCm')\\\n",
    ".add_legend()"
   ]
  },
  {
   "cell_type": "code",
   "execution_count": null,
   "id": "4575bfb0",
   "metadata": {},
   "outputs": [],
   "source": [
    "iris.head()"
   ]
  },
  {
   "cell_type": "markdown",
   "id": "1d7b8c84",
   "metadata": {},
   "source": [
    "Boxplot"
   ]
  },
  {
   "cell_type": "code",
   "execution_count": null,
   "id": "ca63cb4d",
   "metadata": {},
   "outputs": [],
   "source": [
    "fig = plt.gcf()\n",
    "fig.set_size_inches(10,7)\n",
    "sns.boxplot(data=iris)"
   ]
  },
  {
   "cell_type": "code",
   "execution_count": null,
   "id": "39147179",
   "metadata": {},
   "outputs": [],
   "source": [
    "#1)\n",
    "fig=sns.boxplot(x='Species',y='SepalLengthCm',data=iris,order=['Iris-virginica','Iris-versicolor','Iris-setosa'],linewidth=2.5,orient='v',dodge=False)"
   ]
  },
  {
   "cell_type": "code",
   "execution_count": null,
   "id": "250abddc",
   "metadata": {},
   "outputs": [],
   "source": [
    "#2)\n",
    "fig=sns.boxplot(x='Species',y='SepalWidthCm',data=iris,order=['Iris-virginica','Iris-Versicolor','Iris-setosa'],linewidth=2.5,orient='v',dodge=False)"
   ]
  },
  {
   "cell_type": "code",
   "execution_count": null,
   "id": "0e906401",
   "metadata": {},
   "outputs": [],
   "source": [
    "#3)\n",
    "fig=sns.boxplot(x='Species',y='PetalLengthCm',data=iris,order=['Iris-virginica','Iris-versicolor','Iris-setosa'],linewidth=2.5,orient='v',dodge=False)"
   ]
  },
  {
   "cell_type": "code",
   "execution_count": null,
   "id": "67808774",
   "metadata": {},
   "outputs": [],
   "source": [
    "#4)\n",
    "fig=sns.boxplot(x='Species',y='PetalWidthCm',data=iris,order=['Iris-virginica','Iris-versicolor','Iris-setosa'],linewidth=2.5,orient='v',dodge=False)"
   ]
  },
  {
   "cell_type": "markdown",
   "id": "9e62caf4",
   "metadata": {},
   "source": [
    "observation  \n",
    "\n",
    "From the above 4 points we can analyse what is the measure for all the 4 features to classify the type of iris flower"
   ]
  },
  {
   "cell_type": "markdown",
   "id": "43d1cc25",
   "metadata": {},
   "source": [
    "# 4plots in one figure"
   ]
  },
  {
   "cell_type": "code",
   "execution_count": null,
   "id": "54bcd630",
   "metadata": {},
   "outputs": [],
   "source": [
    "\n",
    "#iris.drop(\"Id\",axis =1).boxplot(by='species',figsize=(12,6))\n",
    "iris.boxplot(by=\"Species\",figsize=(12,6),color='Red')"
   ]
  },
  {
   "cell_type": "markdown",
   "id": "22a4c7f1",
   "metadata": {},
   "source": [
    "Observations\n",
    "\n",
    "Species setoca has the smallest features and less distributed with some outliers.\n",
    "Species versicolor has the average features\n",
    "species virginica has the highest features"
   ]
  },
  {
   "cell_type": "markdown",
   "id": "2a7637dc",
   "metadata": {},
   "source": [
    "# Strip plot"
   ]
  },
  {
   "cell_type": "code",
   "execution_count": null,
   "id": "4959d6c7",
   "metadata": {},
   "outputs": [],
   "source": [
    "fig=plt.gcf()\n",
    "fig.set_size_inches(10,7)\n",
    "fig=sns.stripplot(x='Species',y='SepalLengthCm',data=iris,jitter=True,edgecolor='gray',size=8,palette='winter',orient='v')"
   ]
  },
  {
   "cell_type": "markdown",
   "id": "313e12b8",
   "metadata": {},
   "source": [
    "# Combining Box and Strip Plots"
   ]
  },
  {
   "cell_type": "code",
   "execution_count": null,
   "id": "85824267",
   "metadata": {},
   "outputs": [],
   "source": [
    "fig=plt.gcf()\n",
    "fig.set_size_inches(10,7)\n",
    "fig=sns.boxplot(x='Species',y='SepalLengthCm',data=iris)\n",
    "fig=sns.stripplot(x='Species',y='SepalLengthCm',data=iris,jitter=True,edgecolor='gray')"
   ]
  },
  {
   "cell_type": "code",
   "execution_count": null,
   "id": "da218d7f",
   "metadata": {},
   "outputs": [],
   "source": [
    "ax= sns.boxplot(x=\"Species\", y=\"PetalLengthCm\", data=iris)\n",
    "ax= sns.stripplot(x=\"Species\", y=\"PetalLengthCm\", data=iris, jitter=True, edgecolor=\"gray\")\n",
    "plt.show()"
   ]
  },
  {
   "cell_type": "markdown",
   "id": "26094362",
   "metadata": {},
   "source": [
    "9. Violin Plot It is used to visualize the distribution of data and its probability distribution.This chart is a combination of a Box Plot and a Density Plot that is rotated and placed on each side, to show the distribution shape of the data. The thick black bar in the centre represents the interquartile range, the thin black line extended from it represents the 95% confidence intervals, and the white dot is the median.Box Plots are limited in their display of the data, as their visual simplicity tends to hide significant details about how values in the data are distributed"
   ]
  },
  {
   "cell_type": "code",
   "execution_count": null,
   "id": "e739ba7e",
   "metadata": {},
   "outputs": [],
   "source": [
    "fig=plt.gcf()\n",
    "fig.set_size_inches(10,7)\n",
    "fig=sns.violinplot(x='Species',y='SepalLengthCm',data=iris)"
   ]
  },
  {
   "cell_type": "code",
   "execution_count": null,
   "id": "d25374cd",
   "metadata": {},
   "outputs": [],
   "source": [
    "plt.figure(figsize=(15,10))\n",
    "plt.subplot(2,2,1)\n",
    "sns.violinplot(x='Species',y='PetalLengthCm',data=iris)\n",
    "plt.subplot(2,2,2)\n",
    "sns.violinplot(x='Species',y='PetalWidthCm',data=iris)\n",
    "plt.subplot(2,2,3)\n",
    "sns.violinplot(x='Species',y='SepalLengthCm',data=iris)\n",
    "plt.subplot(2,2,4)\n",
    "sns.violinplot(x='Species',y='SepalWidthCm',data=iris)"
   ]
  },
  {
   "cell_type": "markdown",
   "id": "423a59d8",
   "metadata": {},
   "source": [
    "10. Pair Plot: A “pairs plot” is also known as a scatterplot, in which one variable in the same data row is matched with another variable's value, like this: Pairs plots are just elaborations on this, showing all variables paired with all the other variables."
   ]
  },
  {
   "cell_type": "code",
   "execution_count": null,
   "id": "f21edd65",
   "metadata": {},
   "outputs": [],
   "source": [
    "sns.pairplot(data=iris,kind='scatter')"
   ]
  },
  {
   "cell_type": "code",
   "execution_count": null,
   "id": "30835cac",
   "metadata": {},
   "outputs": [],
   "source": [
    "sns.pairplot(iris,hue='Species');\n"
   ]
  },
  {
   "cell_type": "code",
   "execution_count": null,
   "id": "4662ca6e",
   "metadata": {},
   "outputs": [],
   "source": [
    "\n",
    "fig=plt.gcf()\n",
    "fig.set_size_inches(10,7)\n",
    "fig=sns.heatmap(iris.corr(),annot=True,cmap='cubehelix',linewidths=1,linecolor='k',square=True,mask=False, vmin=-1, vmax=1,cbar_kws={\"orientation\": \"vertical\"},cbar=True)"
   ]
  },
  {
   "cell_type": "markdown",
   "id": "731ab21f",
   "metadata": {},
   "source": [
    "12. Distribution plot: The distribution plot is suitable for comparing range and distribution for groups of numerical data. Data is plotted as value points along an axis. You can choose to display only the value points to see the distribution of values, a bounding box to see the range of values, or a combination of both as shown here.The distribution plot is not relevant for detailed analysis of the data as it deals with a summary of the data distribution."
   ]
  },
  {
   "cell_type": "code",
   "execution_count": null,
   "id": "e6adf8c0",
   "metadata": {},
   "outputs": [],
   "source": [
    "iris.hist(edgecolor='black', linewidth=1.2)\n",
    "fig=plt.gcf()\n",
    "fig.set_size_inches(12,6)"
   ]
  },
  {
   "cell_type": "code",
   "execution_count": null,
   "id": "8328f65b",
   "metadata": {},
   "outputs": [],
   "source": [
    "sns.set(style=\"darkgrid\")\n",
    "fig=plt.gcf()\n",
    "fig.set_size_inches(10,7)\n",
    "fig = sns.swarmplot(x=\"Species\", y=\"PetalLengthCm\", data=iris)"
   ]
  },
  {
   "cell_type": "code",
   "execution_count": null,
   "id": "f9f32062",
   "metadata": {},
   "outputs": [],
   "source": [
    "sns.set(style=\"whitegrid\")\n",
    "fig=plt.gcf()\n",
    "fig.set_size_inches(10,7)\n",
    "ax = sns.violinplot(x=\"Species\", y=\"PetalLengthCm\", data=iris, inner=None)\n",
    "ax = sns.swarmplot(x=\"Species\", y=\"PetalLengthCm\", data=iris,color=\"white\", edgecolor=\"black\")"
   ]
  },
  {
   "cell_type": "markdown",
   "id": "27f120e6",
   "metadata": {},
   "source": [
    "LM Plot"
   ]
  },
  {
   "cell_type": "code",
   "execution_count": null,
   "id": "d5344868",
   "metadata": {},
   "outputs": [],
   "source": [
    "fig=sns.lmplot(x=\"PetalLengthCm\", y=\"PetalWidthCm\",data=iris)"
   ]
  },
  {
   "cell_type": "markdown",
   "id": "8771e7b8",
   "metadata": {},
   "source": [
    "18. FacetGrid"
   ]
  },
  {
   "cell_type": "code",
   "execution_count": null,
   "id": "52e088c8",
   "metadata": {},
   "outputs": [],
   "source": [
    "sns.FacetGrid(iris, hue=\"Species\", size=6) \\\n",
    "   .map(sns.kdeplot, \"PetalLengthCm\") \\\n",
    "   .add_legend()\n",
    "plt.ioff() "
   ]
  },
  {
   "cell_type": "markdown",
   "id": "3273900a",
   "metadata": {},
   "source": [
    "** 22. Factor Plot **"
   ]
  },
  {
   "cell_type": "code",
   "execution_count": null,
   "id": "184aa945",
   "metadata": {},
   "outputs": [],
   "source": [
    "#f,ax=plt.subplots(1,2,figsize=(18,8))\n",
    "sns.factorplot('Species','SepalLengthCm',data=iris)\n",
    "plt.ioff()\n",
    "plt.show()\n",
    "#sns.factorplot('Species','SepalLengthCm',data=iris,ax=ax[0][0])\n",
    "#sns.factorplot('Species','SepalWidthCm',data=iris,ax=ax[0][1])\n",
    "#sns.factorplot('Species','PetalLengthCm',data=iris,ax=ax[1][0])\n",
    "#sns.factorplot('Species','PetalWidthCm',data=iris,ax=ax[1][1])"
   ]
  },
  {
   "cell_type": "markdown",
   "id": "7c06fda9",
   "metadata": {},
   "source": [
    "** 23. Boxen Plot**"
   ]
  },
  {
   "cell_type": "code",
   "execution_count": null,
   "id": "8b17d686",
   "metadata": {},
   "outputs": [],
   "source": [
    "fig=plt.gcf()\n",
    "fig.set_size_inches(10,7)\n",
    "fig=sns.boxenplot(x='Species',y='SepalLengthCm',data=iris)"
   ]
  },
  {
   "cell_type": "markdown",
   "id": "973d2f44",
   "metadata": {},
   "source": [
    "*28.KDE Plot *"
   ]
  },
  {
   "cell_type": "code",
   "execution_count": null,
   "id": "52a6ba13",
   "metadata": {},
   "outputs": [],
   "source": [
    "# Create a kde plot of sepal_length versus sepal width for setosa species of flower.\n",
    "sub=iris[iris['Species']=='Iris-setosa']\n",
    "sns.kdeplot(data=sub[['SepalLengthCm','SepalWidthCm']], shade=True, shade_lowest=True)\n",
    "plt.title('Iris-setosa')\n",
    "plt.xlabel('Sepal Length Cm')\n",
    "plt.ylabel('Sepal Width Cm')"
   ]
  },
  {
   "cell_type": "markdown",
   "id": "19a36e21",
   "metadata": {},
   "source": [
    "30.Dashboard"
   ]
  },
  {
   "cell_type": "code",
   "execution_count": null,
   "id": "9d6385ae",
   "metadata": {},
   "outputs": [],
   "source": [
    "sns.set_style('darkgrid')\n",
    "f,axes=plt.subplots(2,2,figsize=(15,15))\n",
    "\n",
    "k1=sns.boxplot(x=\"Species\", y=\"PetalLengthCm\", data=iris,ax=axes[0,0])\n",
    "k2=sns.violinplot(x='Species',y='PetalLengthCm',data=iris,ax=axes[0,1])\n",
    "k3=sns.stripplot(x='Species',y='SepalLengthCm',data=iris,jitter=True,edgecolor='gray',size=8,palette='winter',orient='v',ax=axes[1,0])\n",
    "#axes[1,1].hist(iris.hist,bin=10)\n",
    "axes[1,1].hist(iris.PetalLengthCm,bins=100)\n",
    "#k2.set(xlim=(-1,0.8))\n",
    "plt.show()"
   ]
  },
  {
   "cell_type": "markdown",
   "id": "6a6da4b7",
   "metadata": {},
   "source": [
    "31.Stacked Histogram"
   ]
  },
  {
   "cell_type": "code",
   "execution_count": null,
   "id": "f41fc9c3",
   "metadata": {},
   "outputs": [],
   "source": [
    "iris['Species'] = iris['Species'].astype('category')\n",
    "#iris.head()"
   ]
  },
  {
   "cell_type": "code",
   "execution_count": null,
   "id": "6e01b76d",
   "metadata": {},
   "outputs": [],
   "source": [
    "list1=list()\n",
    "mylabels=list()\n",
    "for gen in iris.Species.cat.categories:\n",
    "    list1.append(iris[iris.Species==gen].SepalLengthCm)\n",
    "    mylabels.append(gen)\n",
    "    \n",
    "h=plt.hist(list1,bins=30,stacked=True,rwidth=1,label=mylabels)\n",
    "plt.legend()\n",
    "plt.show()"
   ]
  },
  {
   "cell_type": "markdown",
   "id": "c18482e1",
   "metadata": {},
   "source": [
    "With Stacked Histogram we can see the distribution of Sepal Length of Different Species together.This shows us the range of Sepan Length for the three different Species of Iris Flower."
   ]
  },
  {
   "cell_type": "markdown",
   "id": "e7247948",
   "metadata": {},
   "source": [
    "32.Area Plot: Area Plot gives us a visual representation of Various dimensions of Iris flower and their range in dataset."
   ]
  },
  {
   "cell_type": "code",
   "execution_count": null,
   "id": "684899b9",
   "metadata": {},
   "outputs": [],
   "source": [
    "#iris['SepalLengthCm'] = iris['SepalLengthCm'].astype('category')\n",
    "#iris.head()\n",
    "#iris.plot.area(y='SepalLengthCm',alpha=0.4,figsize=(12, 6));\n",
    "iris.plot.area(y=['SepalLengthCm','SepalWidthCm','PetalLengthCm','PetalWidthCm'],alpha=0.4,figsize=(12, 6));"
   ]
  },
  {
   "cell_type": "markdown",
   "id": "85d351f3",
   "metadata": {},
   "source": [
    "32.Area Plot: Area Plot gives us a visual representation of Various dimensions of Iris flower and their range in dataset."
   ]
  },
  {
   "cell_type": "code",
   "execution_count": null,
   "id": "f9fbf669",
   "metadata": {},
   "outputs": [],
   "source": [
    "#iris['SepalLengthCm'] = iris['SepalLengthCm'].astype('category')\n",
    "#iris.head()\n",
    "#iris.plot.area(y='SepalLengthCm',alpha=0.4,figsize=(12, 6));\n",
    "iris.plot.area(y=['SepalLengthCm','SepalWidthCm','PetalLengthCm','PetalWidthCm'],alpha=0.4,figsize=(12, 6));"
   ]
  },
  {
   "cell_type": "code",
   "execution_count": 13,
   "id": "7628b0a3",
   "metadata": {},
   "outputs": [
    {
     "data": {
      "image/png": "[encoded data removed]",
      "text/plain": [
       "<Figure size 640x480 with 1 Axes>"
      ]
     },
     "metadata": {},
     "output_type": "display_data"
    }
   ],
   "source": [
    "sns.distplot(iris['SepalLengthCm'],kde=True,bins=20);"
   ]
  }
 ],
 "metadata": {
  "kernelspec": {
   "display_name": "Python 3 (ipykernel)",
   "language": "python",
   "name": "python3"
  },
  "language_info": {
   "codemirror_mode": {
    "name": "ipython",
    "version": 3
   },
   "file_extension": ".py",
   "mimetype": "text/x-python",
   "name": "python",
   "nbconvert_exporter": "python",
   "pygments_lexer": "ipython3",
   "version": "3.9.13"
  }
 },
 "nbformat": 4,
 "nbformat_minor": 5
}
